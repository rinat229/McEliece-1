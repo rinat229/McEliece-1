{
 "cells": [
  {
   "cell_type": "code",
   "execution_count": 1,
   "metadata": {},
   "outputs": [],
   "source": [
    "import sys\n",
    "sys.path.insert(0, '../../src')\n",
    "\n",
    "import warnings\n",
    "warnings.filterwarnings(\"ignore\", category=UserWarning)"
   ]
  },
  {
   "cell_type": "code",
   "execution_count": 2,
   "metadata": {},
   "outputs": [],
   "source": [
    "import matplotlib.pyplot as plt\n",
    "import numpy as np\n",
    "import time\n",
    "\n",
    "from LDPC import LDPC\n",
    "from QC_LDPC import QC_LDPC\n",
    "from McEliece import McEliece"
   ]
  },
  {
   "cell_type": "code",
   "execution_count": 28,
   "metadata": {},
   "outputs": [],
   "source": [
    "def brute(brutelist):\n",
    "    word = []\n",
    "    \n",
    "    matrix = np.array(brutelist, dtype=int).T\n",
    "    n, k = matrix.shape\n",
    "    \n",
    "    for i in range(n):\n",
    "        elem = 0 if sum(matrix[i]) < k // 2 else 1\n",
    "        word.append(elem)\n",
    "    \n",
    "    return np.array(word, dtype=int)\n",
    "\n",
    "def get_accuracy(guess, real):\n",
    "    n = real.shape[0]\n",
    "    return (n - sum(abs(real - guess))) / n"
   ]
  },
  {
   "cell_type": "code",
   "execution_count": 86,
   "metadata": {},
   "outputs": [
    {
     "name": "stdout",
     "output_type": "stream",
     "text": [
      "[0.43, 0.96, 0.95, 0.99, 0.985, 1.0, 1.0, 1.0, 1.0, 1.0, 1.0, 1.0, 1.0, 1.0, 1.0, 1.0, 1.0, 1.0, 1.0, 1.0, 1.0, 1.0, 1.0, 1.0, 1.0]\n"
     ]
    }
   ],
   "source": [
    "ITER_NUM = 25\n",
    "\n",
    "n = 200\n",
    "d_v = 8\n",
    "d_c = 10\n",
    "\n",
    "ldpc = LDPC.from_params(n, d_v, d_c)\n",
    "\n",
    "crypto = McEliece.from_linear_code(ldpc, 7)\n",
    "word = np.random.randint(2, size=ldpc.getG().shape[0])\n",
    "\n",
    "enc_list = []\n",
    "acc = []\n",
    "\n",
    "for i in range(ITER_NUM):    \n",
    "    encrypted = crypto.encrypt(word)\n",
    "    enc_list.append(encrypted)\n",
    "    \n",
    "    bruted = brute(enc_list)\n",
    "    score = get_accuracy(bruted, crypto.c)\n",
    "    \n",
    "    acc.append(score)\n",
    "    \n",
    "print(acc)"
   ]
  },
  {
   "cell_type": "code",
   "execution_count": 67,
   "metadata": {},
   "outputs": [],
   "source": [
    "from math import atan, pi\n",
    "\n",
    "def my_atan(x):\n",
    "    return atan(x*20)/(pi / 2)"
   ]
  },
  {
   "cell_type": "code",
   "execution_count": 87,
   "metadata": {},
   "outputs": [
    {
     "data": {
      "image/png": "[encoded data removed]",
      "text/plain": [
       "<Figure size 432x288 with 1 Axes>"
      ]
     },
     "metadata": {},
     "output_type": "display_data"
    }
   ],
   "source": [
    "plt.xlabel('Iteration')\n",
    "plt.ylabel('Accuracy')\n",
    "\n",
    "plt.plot([i for i in range(ITER_NUM)], acc, label=\"real values\")\n",
    "\n",
    "x = np.linspace(0.05, ITER_NUM, num=100)\n",
    "y = np.array(list(map(my_atan, x)))\n",
    "\n",
    "plt.plot(x, y, linestyle='--', label=\"approximation\")\n",
    "plt.legend(loc=4)\n",
    "\n",
    "plt.savefig(\"bruteforce.png\", dpi=100)"
   ]
  }
 ],
 "metadata": {
  "kernelspec": {
   "display_name": "Python 3",
   "language": "python",
   "name": "python3"
  },
  "language_info": {
   "codemirror_mode": {
    "name": "ipython",
    "version": 3
   },
   "file_extension": ".py",
   "mimetype": "text/x-python",
   "name": "python",
   "nbconvert_exporter": "python",
   "pygments_lexer": "ipython3",
   "version": "3.6.9"
  }
 },
 "nbformat": 4,
 "nbformat_minor": 2
}
