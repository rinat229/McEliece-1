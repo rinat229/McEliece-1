{
 "cells": [
  {
   "cell_type": "code",
   "execution_count": 1,
   "metadata": {
    "collapsed": true
   },
   "outputs": [],
   "source": [
    "import sys\n",
    "sys.path.insert(0, '../../src')\n",
    "\n",
    "import warnings\n",
    "warnings.filterwarnings(\"ignore\", category=UserWarning)"
   ]
  },
  {
   "cell_type": "code",
   "execution_count": 2,
   "metadata": {},
   "outputs": [],
   "source": [
    "import matplotlib.pyplot as plt\n",
    "import numpy as np\n",
    "import time\n",
    "from scipy.special import comb\n",
    "\n",
    "\n",
    "from LDPC import LDPC\n",
    "from McEliece import McEliece\n",
    "from utils import gaussjordan"
   ]
  },
  {
   "cell_type": "code",
   "execution_count": 3,
   "metadata": {},
   "outputs": [
    {
     "name": "stdout",
     "output_type": "stream",
     "text": [
      "word: [0 1 1 0 0 1 0 0 1 0 0 1 0 1 1 0 1 0 1 0 0 1 1 1 1 0 1 0 1 1 1 1 0 0 0 1 1\n",
      " 0 1 1 1 1 1 1 1 0 0 0 0 1 1 1 1 0 1 1 0 1 1 1 1 1 0 1 0 0 0 0 1 1 1 1 1 0\n",
      " 0 0 1 1 1 1 1 0 1 1 0 1 0 1 0 0 0 0 0 0 0 0 0 1 1 1 1 0 0 1 0 1 1 0 0 1 0\n",
      " 0 0 0 0 1 0 1 1 0 0 0 0 0 1]\n",
      "encrypted: [1 1 1 1 0 0 1 1 0 0 0 0 1 1 0 0 0 1 1 1 0 0 1 1 1 1 1 1 0 0 1 1 1 0 1 0 0\n",
      " 0 0 0 1 0 1 1 1 1 0 1 1 1 1 0 1 1 1 0 1 0 1 1 0 0 1 0 0 1 1 0 1 0 1 0 0 0\n",
      " 0 1 0 1 1 0 1 1 0 0 0 1 1 0 0 0 0 1 1 1 1 1 0 1 0 0 0 0 0 1 1 1 1 0 1 1 0\n",
      " 1 0 0 1 1 0 0 0 1 0 0 0 0 1 1 0 0 1 1 0 1 0 0 0 0 1 1 0 0 0 1 0 0 0 0 0 1\n",
      " 1 0 1 0 1 0 0 0 0 1 0 1 1 0 1 1 0 1 1 0 1 1 1 1 1 1 1 1 1 1 0 0 1 0 0 0 0\n",
      " 1 0 1 1 0 0 1 1 0 0 1 0 1 0 0 0 1 0 0 0 0 0 1 0 0 0 0 0 1 0 1 0 0 0 0 1 0\n",
      " 0 0 1 0 0 1 0 0 0 1 0 1 0 0 0 0 1 1 0 1 0 1 0 1 1 1 0 1 0 1 0 0 1 1 0 1 1\n",
      " 0 0 1 0 1 1 1 0 1 1 0 1 1 1 0 0 0 1 0 1 0 0 0 1 0 0 1 0 0 1 1 0 0 0 1 1 1\n",
      " 1 0 1 0]\n",
      "decrypted: [0 1 1 0 0 1 0 0 1 0 0 1 0 1 1 0 1 0 1 0 0 1 1 1 1 0 1 0 1 1 1 1 0 0 0 1 1\n",
      " 0 1 1 1 1 1 1 1 0 0 0 0 1 1 1 1 0 1 1 0 1 1 1 1 1 0 1 0 0 0 0 1 1 1 1 1 0\n",
      " 0 0 1 1 1 1 1 0 1 1 0 1 0 1 0 0 0 0 0 0 0 0 0 1 1 1 1 0 0 1 0 1 1 0 0 1 0\n",
      " 0 0 0 0 1 0 1 1 0 0 0 0 0 1]\n"
     ]
    }
   ],
   "source": [
    "\n",
    "# EXAMPLE USAGE\n",
    "\n",
    "n = 300\n",
    "d_v = 6\n",
    "d_c = 10\n",
    "\n",
    "ldpc = LDPC.from_params(n, d_v, d_c)\n",
    "\n",
    "word = np.random.randint(2, size=ldpc.getG().shape[0])\n",
    "print(\"word:\", word)\n",
    "\n",
    "crypto = McEliece.from_linear_code(ldpc, 3)\n",
    "\n",
    "encrypted = crypto.encrypt(word)\n",
    "print(\"encrypted:\", encrypted)\n",
    "\n",
    "decrypted = crypto.decrypt(encrypted)\n",
    "print(\"decrypted:\", decrypted)\n",
    "\n",
    "assert (word == decrypted).all()"
   ]
  },
  {
   "cell_type": "code",
   "execution_count": 35,
   "metadata": {},
   "outputs": [],
   "source": [
    "def information_set_decoding(encrypted, public_key, epochs):\n",
    "    rng = np.random.default_rng()\n",
    "    G, t = public_key\n",
    "    k, n = G.shape\n",
    "    #print(\"G\", G.shape)\n",
    "    arr = np.arange(n)\n",
    "    wt = -1\n",
    "    step = 0\n",
    "    tao = comb(n, t) / comb(n - k, t)\n",
    "    #print(\"tao\", tao)\n",
    "    E = np.eye(k, dtype=int)\n",
    "    while wt != t and step <= max(2*tao, epochs):\n",
    "        #print(\"epoch\")\n",
    "        rng.shuffle(arr)\n",
    "        J = arr[:k] #random subset\n",
    "        G1 = G[:, J]\n",
    "        #print(G1.shape)\n",
    "        I, G1_inv = gaussjordan(G1, True)\n",
    "        if not (I == E).all():\n",
    "            #print(\"not inv\")\n",
    "            continue\n",
    "        #print(G1_inv.shape)\n",
    "        wt = np.sum((encrypted + encrypted[J] @ G1_inv @ G) % 2)\n",
    "        step += 1\n",
    "        #print(step)\n",
    "        \n",
    "    if wt == t:\n",
    "        #print((encrypted[J] @ G1_inv) % 2)\n",
    "        return (encrypted[J] @ G1_inv) % 2, step, tao\n",
    "    \n",
    "    return -1, -1, -1"
   ]
  },
  {
   "cell_type": "code",
   "execution_count": 5,
   "metadata": {},
   "outputs": [],
   "source": [
    "public_key = crypto.public_key"
   ]
  },
  {
   "cell_type": "code",
   "execution_count": 11,
   "metadata": {},
   "outputs": [],
   "source": [
    "decoded, step, tao = information_set_decoding(encrypted, public_key, 100)"
   ]
  },
  {
   "cell_type": "code",
   "execution_count": 12,
   "metadata": {},
   "outputs": [
    {
     "data": {
      "text/plain": [
       "array([0, 1, 1, 0, 0, 1, 0, 0, 1, 0, 0, 1, 0, 1, 1, 0, 1, 0, 1, 0, 0, 1,\n",
       "       1, 1, 1, 0, 1, 0, 1, 1, 1, 1, 0, 0, 0, 1, 1, 0, 1, 1, 1, 1, 1, 1,\n",
       "       1, 0, 0, 0, 0, 1, 1, 1, 1, 0, 1, 1, 0, 1, 1, 1, 1, 1, 0, 1, 0, 0,\n",
       "       0, 0, 1, 1, 1, 1, 1, 0, 0, 0, 1, 1, 1, 1, 1, 0, 1, 1, 0, 1, 0, 1,\n",
       "       0, 0, 0, 0, 0, 0, 0, 0, 0, 1, 1, 1, 1, 0, 0, 1, 0, 1, 1, 0, 0, 1,\n",
       "       0, 0, 0, 0, 0, 1, 0, 1, 1, 0, 0, 0, 0, 0, 1])"
      ]
     },
     "execution_count": 12,
     "metadata": {},
     "output_type": "execute_result"
    }
   ],
   "source": [
    "decoded"
   ]
  },
  {
   "cell_type": "code",
   "execution_count": 13,
   "metadata": {},
   "outputs": [
    {
     "data": {
      "text/plain": [
       "125"
      ]
     },
     "execution_count": 13,
     "metadata": {},
     "output_type": "execute_result"
    }
   ],
   "source": [
    "len(decoded)"
   ]
  },
  {
   "cell_type": "code",
   "execution_count": 14,
   "metadata": {},
   "outputs": [
    {
     "data": {
      "text/plain": [
       "array([0, 1, 1, 0, 0, 1, 0, 0, 1, 0, 0, 1, 0, 1, 1, 0, 1, 0, 1, 0, 0, 1,\n",
       "       1, 1, 1, 0, 1, 0, 1, 1, 1, 1, 0, 0, 0, 1, 1, 0, 1, 1, 1, 1, 1, 1,\n",
       "       1, 0, 0, 0, 0, 1, 1, 1, 1, 0, 1, 1, 0, 1, 1, 1, 1, 1, 0, 1, 0, 0,\n",
       "       0, 0, 1, 1, 1, 1, 1, 0, 0, 0, 1, 1, 1, 1, 1, 0, 1, 1, 0, 1, 0, 1,\n",
       "       0, 0, 0, 0, 0, 0, 0, 0, 0, 1, 1, 1, 1, 0, 0, 1, 0, 1, 1, 0, 0, 1,\n",
       "       0, 0, 0, 0, 0, 1, 0, 1, 1, 0, 0, 0, 0, 0, 1])"
      ]
     },
     "execution_count": 14,
     "metadata": {},
     "output_type": "execute_result"
    }
   ],
   "source": [
    "decrypted"
   ]
  },
  {
   "cell_type": "code",
   "execution_count": 15,
   "metadata": {},
   "outputs": [],
   "source": [
    "assert(decrypted == decoded).all()"
   ]
  },
  {
   "cell_type": "code",
   "execution_count": 28,
   "metadata": {},
   "outputs": [
    {
     "name": "stdout",
     "output_type": "stream",
     "text": [
      "55\n"
     ]
    }
   ],
   "source": [
    "n = 1000\n",
    "d_v = 8\n",
    "d_c = 10\n",
    "\n",
    "ldpc = LDPC.from_params(n, d_v, d_c)\n",
    "\n",
    "print(ldpc.guess_code_max_error())"
   ]
  },
  {
   "cell_type": "code",
   "execution_count": 16,
   "metadata": {
    "collapsed": true
   },
   "outputs": [],
   "source": [
    "n = 1000\n",
    "d_v = 8\n",
    "d_c = 10"
   ]
  },
  {
   "cell_type": "code",
   "execution_count": 18,
   "metadata": {},
   "outputs": [
    {
     "name": "stdout",
     "output_type": "stream",
     "text": [
      "0\n",
      "1\n",
      "2\n",
      "3\n",
      "4\n",
      "5\n",
      "6\n",
      "7\n",
      "8\n",
      "9\n",
      "10\n",
      "11\n",
      "12\n",
      "13\n"
     ]
    },
    {
     "ename": "TypeError",
     "evalue": "'NoneType' object is not iterable",
     "output_type": "error",
     "traceback": [
      "\u001b[0;31m---------------------------------------------------------------------------\u001b[0m",
      "\u001b[0;31mTypeError\u001b[0m                                 Traceback (most recent call last)",
      "\u001b[0;32m<ipython-input-18-943cf4447580>\u001b[0m in \u001b[0;36m<module>\u001b[0;34m()\u001b[0m\n\u001b[1;32m     27\u001b[0m \u001b[0;34m\u001b[0m\u001b[0m\n\u001b[1;32m     28\u001b[0m         \u001b[0mstart\u001b[0m \u001b[0;34m=\u001b[0m \u001b[0mtime\u001b[0m\u001b[0;34m.\u001b[0m\u001b[0mtime\u001b[0m\u001b[0;34m(\u001b[0m\u001b[0;34m)\u001b[0m\u001b[0;34m\u001b[0m\u001b[0m\n\u001b[0;32m---> 29\u001b[0;31m         \u001b[0mdecoded\u001b[0m\u001b[0;34m,\u001b[0m \u001b[0mstep\u001b[0m\u001b[0;34m,\u001b[0m \u001b[0mtao\u001b[0m \u001b[0;34m=\u001b[0m \u001b[0minformation_set_decoding\u001b[0m\u001b[0;34m(\u001b[0m\u001b[0mencrypted\u001b[0m\u001b[0;34m,\u001b[0m \u001b[0mpublic_key\u001b[0m\u001b[0;34m,\u001b[0m \u001b[0;36m100\u001b[0m\u001b[0;34m)\u001b[0m\u001b[0;34m\u001b[0m\u001b[0m\n\u001b[0m\u001b[1;32m     30\u001b[0m         \u001b[0;32massert\u001b[0m\u001b[0;34m(\u001b[0m\u001b[0mdecrypted\u001b[0m \u001b[0;34m==\u001b[0m \u001b[0mdecoded\u001b[0m\u001b[0;34m)\u001b[0m\u001b[0;34m.\u001b[0m\u001b[0mall\u001b[0m\u001b[0;34m(\u001b[0m\u001b[0;34m)\u001b[0m\u001b[0;34m\u001b[0m\u001b[0m\n\u001b[1;32m     31\u001b[0m         \u001b[0mend\u001b[0m \u001b[0;34m=\u001b[0m \u001b[0mtime\u001b[0m\u001b[0;34m.\u001b[0m\u001b[0mtime\u001b[0m\u001b[0;34m(\u001b[0m\u001b[0;34m)\u001b[0m\u001b[0;34m\u001b[0m\u001b[0m\n",
      "\u001b[0;31mTypeError\u001b[0m: 'NoneType' object is not iterable"
     ]
    }
   ],
   "source": [
    "t = 0\n",
    "result_time_of_operations = []\n",
    "result_steps = []\n",
    "result_taos = []\n",
    "\n",
    "for t in range(31):\n",
    "    \n",
    "    time_of_operation = []\n",
    "    steps = []\n",
    "    taos = []\n",
    "    \n",
    "    for i in range(10):\n",
    "        \n",
    "        ldpc = LDPC.from_params(n, d_v, d_c)\n",
    "\n",
    "        word = np.random.randint(2, size=ldpc.getG().shape[0])\n",
    "\n",
    "        crypto = McEliece.from_linear_code(ldpc, t)\n",
    "\n",
    "        encrypted = crypto.encrypt(word)\n",
    "\n",
    "        decrypted = crypto.decrypt(encrypted)\n",
    "\n",
    "        assert (word == decrypted).all()\n",
    "\n",
    "        public_key = crypto.public_key\n",
    "\n",
    "        start = time.time()\n",
    "        decoded, step, tao = information_set_decoding(encrypted, public_key, 100)\n",
    "        assert(decrypted == decoded).all()\n",
    "        end = time.time()\n",
    "\n",
    "        time_of_operation.append(end - start)\n",
    "        steps.append(step)\n",
    "        taos.append(tao)\n",
    "        \n",
    "    time_of_operation = np.asarray(time_of_operation)\n",
    "    steps = np.asarray(steps)\n",
    "    taos = np.asarray(taos)\n",
    "\n",
    "    result_time_of_operations.append(np.mean(time_of_operation))\n",
    "    result_steps.append(np.mean(steps))\n",
    "    result_taos.append(np.mean(taos))\n",
    "    print(t)\n",
    "    "
   ]
  },
  {
   "cell_type": "code",
   "execution_count": null,
   "metadata": {
    "collapsed": true
   },
   "outputs": [],
   "source": []
  }
 ],
 "metadata": {
  "kernelspec": {
   "display_name": "Python 3",
   "language": "python",
   "name": "python3"
  },
  "language_info": {
   "codemirror_mode": {
    "name": "ipython",
    "version": 3
   },
   "file_extension": ".py",
   "mimetype": "text/x-python",
   "name": "python",
   "nbconvert_exporter": "python",
   "pygments_lexer": "ipython3",
   "version": "3.6.3"
  }
 },
 "nbformat": 4,
 "nbformat_minor": 2
}
