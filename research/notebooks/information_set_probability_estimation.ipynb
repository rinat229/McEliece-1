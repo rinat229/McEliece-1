{
 "cells": [
  {
   "cell_type": "code",
   "execution_count": 1,
   "metadata": {},
   "outputs": [],
   "source": [
    "import sys\n",
    "sys.path.insert(0, '../../src')\n",
    "\n",
    "import warnings\n",
    "warnings.filterwarnings(\"ignore\", category=UserWarning)"
   ]
  },
  {
   "cell_type": "code",
   "execution_count": 2,
   "metadata": {},
   "outputs": [],
   "source": [
    "import matplotlib.pyplot as plt\n",
    "import numpy as np\n",
    "import time\n",
    "\n",
    "from LDPC import LDPC\n",
    "from QC_LDPC import QC_LDPC\n",
    "from McEliece import McEliece\n",
    "from utils import gaussjordan"
   ]
  },
  {
   "cell_type": "code",
   "execution_count": 9,
   "metadata": {},
   "outputs": [],
   "source": [
    "def binaryrank(X):\n",
    "    A = np.copy(X)\n",
    "    m, n = A.shape\n",
    "\n",
    "    A = gaussjordan(A)\n",
    "\n",
    "    return sum([a.any() for a in A])"
   ]
  },
  {
   "cell_type": "code",
   "execution_count": 13,
   "metadata": {},
   "outputs": [],
   "source": [
    "def extract_random_information_set(X):\n",
    "    k, n = X.shape\n",
    "    \n",
    "    rng = np.random.default_rng()\n",
    "    arr = np.arange(n)\n",
    "    \n",
    "    rng.shuffle(arr)\n",
    "    J = arr[:k]\n",
    "    \n",
    "    return X[:, J]"
   ]
  },
  {
   "cell_type": "code",
   "execution_count": 23,
   "metadata": {},
   "outputs": [],
   "source": [
    "ITER_NUM = 50"
   ]
  },
  {
   "cell_type": "code",
   "execution_count": 36,
   "metadata": {},
   "outputs": [
    {
     "name": "stdout",
     "output_type": "stream",
     "text": [
      "Regular LDPC simulation\n",
      "n: 300, k: 67, prob: 0.18, time: 0s\n",
      "n: 500, k: 107, prob: 0.4, time: 1s\n",
      "n: 700, k: 147, prob: 0.3, time: 3s\n",
      "n: 900, k: 187, prob: 0.34, time: 6s\n",
      "n: 1100, k: 227, prob: 0.36, time: 9s\n",
      "n: 1300, k: 267, prob: 0.26, time: 13s\n",
      "n: 1500, k: 307, prob: 0.3, time: 17s\n",
      "n: 1700, k: 347, prob: 0.28, time: 23s\n",
      "n: 1900, k: 387, prob: 0.26, time: 30s\n",
      "n: 2100, k: 427, prob: 0.38, time: 40s\n",
      "n: 2300, k: 467, prob: 0.18, time: 54s\n"
     ]
    }
   ],
   "source": [
    "N = [300, 500, 700, 900, 1100, 1300, 1500, 1700, 1900, 2100, 2300]\n",
    "D_c = [10 for _ in N]\n",
    "D_v = [8 for _ in N]\n",
    "\n",
    "probs_ldpc = []\n",
    "time_ldpc = []\n",
    "\n",
    "print(\"Regular LDPC simulation\")\n",
    "for n, d_v, d_c in zip(N, D_v, D_c):\n",
    "    ldpc = LDPC.from_params(n, d_v, d_c)\n",
    "\n",
    "    crypto = McEliece.from_linear_code(ldpc, 0)\n",
    "\n",
    "    SGP = crypto.public_key[0]\n",
    "    k, n = SGP.shape\n",
    "    \n",
    "    counter = 0\n",
    "    start = time.time()\n",
    "    \n",
    "    for iter in range(ITER_NUM):\n",
    "        I = extract_random_information_set(SGP)\n",
    "        rank = binaryrank(I)\n",
    "                \n",
    "        if rank == k:\n",
    "            counter += 1\n",
    "            \n",
    "    end = time.time()\n",
    "    \n",
    "    t = int(end - start)\n",
    "    time_ldpc.append(t)\n",
    "            \n",
    "    prob = counter / ITER_NUM\n",
    "    probs_ldpc.append(prob)\n",
    "    \n",
    "    print(\"n: {}, k: {}, prob: {}, time: {}s\".format(n, k, prob, t))"
   ]
  },
  {
   "cell_type": "code",
   "execution_count": 39,
   "metadata": {},
   "outputs": [
    {
     "name": "stdout",
     "output_type": "stream",
     "text": [
      "[0.18, 0.4, 0.3, 0.34, 0.36, 0.26, 0.3, 0.28, 0.26, 0.38, 0.18]\n"
     ]
    }
   ],
   "source": [
    "print(probs_ldpc)"
   ]
  },
  {
   "cell_type": "code",
   "execution_count": 41,
   "metadata": {},
   "outputs": [
    {
     "name": "stdout",
     "output_type": "stream",
     "text": [
      "Irregular LDPC simulation\n",
      "n: 300, k: 60, prob: 0.06, time: 0s\n",
      "n: 500, k: 100, prob: 0.3, time: 1s\n",
      "n: 700, k: 140, prob: 0.06, time: 3s\n",
      "n: 900, k: 180, prob: 0.02, time: 6s\n",
      "n: 1100, k: 220, prob: 0.34, time: 8s\n",
      "n: 1300, k: 260, prob: 0.32, time: 13s\n",
      "n: 1500, k: 300, prob: 0.24, time: 20s\n",
      "n: 1700, k: 340, prob: 0.02, time: 23s\n",
      "n: 1900, k: 380, prob: 0.04, time: 31s\n",
      "n: 2100, k: 420, prob: 0.28, time: 39s\n",
      "n: 2300, k: 460, prob: 0.26, time: 53s\n"
     ]
    }
   ],
   "source": [
    "N = [300, 500, 700, 900, 1100, 1300, 1500, 1700, 1900, 2100, 2300]\n",
    "D_c = [10 for _ in N]\n",
    "D_v = [8 for _ in N]\n",
    "\n",
    "probs_irregular_ldpc = []\n",
    "time_irregular_ldpc = []\n",
    "\n",
    "print(\"Irregular LDPC simulation\")\n",
    "for n, d_v, d_c in zip(N, D_v, D_c):\n",
    "    ldpc = LDPC.from_params(n, d_v, d_c, regular=False)\n",
    "\n",
    "    crypto = McEliece.from_linear_code(ldpc, 0)\n",
    "\n",
    "    SGP = crypto.public_key[0]\n",
    "    k, n = SGP.shape\n",
    "    \n",
    "    counter = 0\n",
    "    start = time.time()\n",
    "    \n",
    "    for iter in range(ITER_NUM):\n",
    "        I = extract_random_information_set(SGP)\n",
    "        rank = binaryrank(I)\n",
    "                \n",
    "        if rank == k:\n",
    "            counter += 1\n",
    "            \n",
    "    end = time.time()\n",
    "    \n",
    "    t = int(end - start)\n",
    "    time_irregular_ldpc.append(t)\n",
    "            \n",
    "    prob = counter / ITER_NUM\n",
    "    probs_irregular_ldpc.append(prob)\n",
    "    \n",
    "    print(\"n: {}, k: {}, prob: {}, time: {}s\".format(n, k, prob, t))"
   ]
  },
  {
   "cell_type": "code",
   "execution_count": 43,
   "metadata": {},
   "outputs": [
    {
     "name": "stdout",
     "output_type": "stream",
     "text": [
      "[0.06, 0.3, 0.06, 0.02, 0.34, 0.32, 0.24, 0.02, 0.04, 0.28, 0.26]\n"
     ]
    }
   ],
   "source": [
    "print(probs_irregular_ldpc)"
   ]
  },
  {
   "cell_type": "code",
   "execution_count": 44,
   "metadata": {},
   "outputs": [
    {
     "name": "stdout",
     "output_type": "stream",
     "text": [
      "Regular MDPC simulation\n",
      "n: 300, k: 83, w: 30, prob: 0.28, time: 1s\n",
      "n: 500, k: 139, w: 50, prob: 0.16, time: 3s\n",
      "n: 700, k: 195, w: 70, prob: 0.26, time: 6s\n",
      "n: 900, k: 251, w: 90, prob: 0.34, time: 11s\n",
      "n: 1100, k: 299, w: 100, prob: 0.3, time: 17s\n",
      "n: 1300, k: 339, w: 100, prob: 0.24, time: 23s\n",
      "n: 1500, k: 399, w: 125, prob: 0.28, time: 33s\n",
      "n: 1700, k: 419, w: 100, prob: 0.32, time: 37s\n",
      "n: 1900, k: 459, w: 100, prob: 0.28, time: 53s\n",
      "n: 2100, k: 539, w: 150, prob: 0.24, time: 113s\n",
      "n: 2300, k: 551, w: 115, prob: 0.28, time: 122s\n"
     ]
    }
   ],
   "source": [
    "from math import log\n",
    "\n",
    "N = [300, 500, 700, 900, 1100, 1300, 1500, 1700, 1900, 2100, 2300]\n",
    "D_c = []\n",
    "D_v = []\n",
    "\n",
    "for n in N:\n",
    "    d_c = int((n * log(n, 2)) ** (0.5))\n",
    "    \n",
    "    while n % d_c != 0:\n",
    "        d_c -= 1\n",
    "        \n",
    "    d_v = int(d_c * 8 / 10)\n",
    "    \n",
    "    D_v.append(d_v)\n",
    "    D_c.append(d_c)\n",
    "\n",
    "probs_mdpc = []\n",
    "time_mdpc = []\n",
    "\n",
    "print(\"Regular MDPC simulation\")\n",
    "for n, d_v, d_c in zip(N, D_v, D_c):\n",
    "    ldpc = LDPC.from_params(n, d_v, d_c)\n",
    "\n",
    "    crypto = McEliece.from_linear_code(ldpc, 0)\n",
    "\n",
    "    SGP = crypto.public_key[0]\n",
    "    k, n = SGP.shape\n",
    "    \n",
    "    counter = 0\n",
    "    start = time.time()\n",
    "    \n",
    "    for iter in range(ITER_NUM):\n",
    "        I = extract_random_information_set(SGP)\n",
    "        rank = binaryrank(I)\n",
    "                \n",
    "        if rank == k:\n",
    "            counter += 1\n",
    "            \n",
    "    end = time.time()\n",
    "    \n",
    "    t = int(end - start)\n",
    "    time_mdpc.append(t)\n",
    "            \n",
    "    prob = counter / ITER_NUM\n",
    "    probs_mdpc.append(prob)\n",
    "    \n",
    "    print(\"n: {}, k: {}, w: {}, prob: {}, time: {}s\".format(n, k, d_c, prob, t))"
   ]
  },
  {
   "cell_type": "code",
   "execution_count": 45,
   "metadata": {},
   "outputs": [
    {
     "name": "stdout",
     "output_type": "stream",
     "text": [
      "[0.28, 0.16, 0.26, 0.34, 0.3, 0.24, 0.28, 0.32, 0.28, 0.24, 0.28]\n"
     ]
    }
   ],
   "source": [
    "print(probs_mdpc)"
   ]
  },
  {
   "cell_type": "code",
   "execution_count": 47,
   "metadata": {},
   "outputs": [
    {
     "name": "stdout",
     "output_type": "stream",
     "text": [
      "Irregular MDPC simulation\n",
      "n: 300, k: 60, w: 30, prob: 0.32, time: 0s\n",
      "n: 500, k: 100, w: 50, prob: 0.28, time: 1s\n",
      "n: 700, k: 140, w: 70, prob: 0.28, time: 3s\n",
      "n: 900, k: 180, w: 90, prob: 0.24, time: 5s\n",
      "n: 1100, k: 220, w: 100, prob: 0.3, time: 9s\n",
      "n: 1300, k: 260, w: 100, prob: 0.36, time: 14s\n",
      "n: 1500, k: 300, w: 125, prob: 0.34, time: 18s\n",
      "n: 1700, k: 340, w: 100, prob: 0.42, time: 25s\n",
      "n: 1900, k: 380, w: 100, prob: 0.32, time: 31s\n",
      "n: 2100, k: 420, w: 150, prob: 0.36, time: 47s\n",
      "n: 2300, k: 460, w: 115, prob: 0.32, time: 55s\n"
     ]
    }
   ],
   "source": [
    "from math import log\n",
    "\n",
    "N = [300, 500, 700, 900, 1100, 1300, 1500, 1700, 1900, 2100, 2300]\n",
    "D_c = []\n",
    "D_v = []\n",
    "\n",
    "for n in N:\n",
    "    d_c = int((n * log(n, 2)) ** (0.5))\n",
    "    \n",
    "    while n % d_c != 0:\n",
    "        d_c -= 1\n",
    "        \n",
    "    d_v = int(d_c * 8 / 10)\n",
    "    \n",
    "    D_v.append(d_v)\n",
    "    D_c.append(d_c)\n",
    "\n",
    "probs_irregular_mdpc = []\n",
    "time_irregular_mdpc = []\n",
    "\n",
    "print(\"Irregular MDPC simulation\")\n",
    "for n, d_v, d_c in zip(N, D_v, D_c):\n",
    "    ldpc = LDPC.from_params(n, d_v, d_c, regular=False)\n",
    "\n",
    "    crypto = McEliece.from_linear_code(ldpc, 0)\n",
    "\n",
    "    SGP = crypto.public_key[0]\n",
    "    k, n = SGP.shape\n",
    "    \n",
    "    counter = 0\n",
    "    start = time.time()\n",
    "    \n",
    "    for iter in range(ITER_NUM):\n",
    "        I = extract_random_information_set(SGP)\n",
    "        rank = binaryrank(I)\n",
    "                \n",
    "        if rank == k:\n",
    "            counter += 1\n",
    "            \n",
    "    end = time.time()\n",
    "    \n",
    "    t = int(end - start)\n",
    "    time_irregular_mdpc.append(t)\n",
    "            \n",
    "    prob = counter / ITER_NUM\n",
    "    probs_irregular_mdpc.append(prob)\n",
    "    \n",
    "    print(\"n: {}, k: {}, w: {}, prob: {}, time: {}s\".format(n, k, d_c, prob, t))"
   ]
  },
  {
   "cell_type": "code",
   "execution_count": 48,
   "metadata": {},
   "outputs": [
    {
     "name": "stdout",
     "output_type": "stream",
     "text": [
      "[0.32, 0.28, 0.28, 0.24, 0.3, 0.36, 0.34, 0.42, 0.32, 0.36, 0.32]\n"
     ]
    }
   ],
   "source": [
    "print(probs_irregular_mdpc)"
   ]
  },
  {
   "cell_type": "code",
   "execution_count": 49,
   "metadata": {},
   "outputs": [
    {
     "name": "stdout",
     "output_type": "stream",
     "text": [
      "QC-LDPC simulation\n",
      "n: 302, k: 151, w: 115, prob: 0.22, time: 3s\n",
      "n: 502, k: 251, w: 115, prob: 0.14, time: 12s\n",
      "n: 706, k: 353, w: 115, prob: 0.1, time: 26s\n",
      "n: 898, k: 449, w: 115, prob: 0.24, time: 48s\n",
      "n: 1094, k: 547, w: 115, prob: 0.12, time: 113s\n",
      "n: 1306, k: 653, w: 115, prob: 0.14, time: 214s\n",
      "n: 1502, k: 751, w: 115, prob: 0.04, time: 328s\n",
      "n: 1706, k: 853, w: 115, prob: 0.04, time: 477s\n",
      "n: 2098, k: 1049, w: 115, prob: 0.04, time: 866s\n",
      "n: 2306, k: 1153, w: 115, prob: 0.04, time: 1127s\n"
     ]
    }
   ],
   "source": [
    "P = [151, 251, 353, 449, 547, 653, 751, 853, 1049, 1153]\n",
    "N = [p * 2 for p in P]\n",
    "W = [10 for _ in N]\n",
    "\n",
    "probs_qc_ldpc = []\n",
    "time_qc_ldpc = []\n",
    "\n",
    "print(\"QC-LDPC simulation\")\n",
    "for n, p, w in zip(N, P, W):\n",
    "    ldpc = QC_LDPC.from_params(n, p, w)\n",
    "\n",
    "    crypto = McEliece.from_linear_code(ldpc, 0)\n",
    "\n",
    "    SGP = crypto.public_key[0]\n",
    "    k, n = SGP.shape\n",
    "    \n",
    "    counter = 0\n",
    "    start = time.time()\n",
    "    \n",
    "    for iter in range(ITER_NUM):\n",
    "        I = extract_random_information_set(SGP)\n",
    "        rank = binaryrank(I)\n",
    "                \n",
    "        if rank == k:\n",
    "            counter += 1\n",
    "            \n",
    "    end = time.time()\n",
    "    \n",
    "    t = int(end - start)\n",
    "    time_qc_ldpc.append(t)\n",
    "            \n",
    "    prob = counter / ITER_NUM\n",
    "    probs_qc_ldpc.append(prob)\n",
    "    \n",
    "    print(\"n: {}, k: {}, w: {}, prob: {}, time: {}s\".format(n, k, w, prob, t))"
   ]
  },
  {
   "cell_type": "code",
   "execution_count": 50,
   "metadata": {},
   "outputs": [
    {
     "name": "stdout",
     "output_type": "stream",
     "text": [
      "[0.22, 0.14, 0.1, 0.24, 0.12, 0.14, 0.04, 0.04, 0.04, 0.04]\n"
     ]
    }
   ],
   "source": [
    "print(probs_qc_ldpc)"
   ]
  },
  {
   "cell_type": "code",
   "execution_count": 52,
   "metadata": {},
   "outputs": [
    {
     "name": "stdout",
     "output_type": "stream",
     "text": [
      "QC-MDPC simulation\n",
      "n: 302, k: 151, w: 49, prob: 0.2, time: 3s\n",
      "n: 502, k: 251, w: 67, prob: 0.2, time: 11s\n",
      "n: 706, k: 353, w: 81, prob: 0.22, time: 25s\n",
      "n: 898, k: 449, w: 93, prob: 0.4, time: 49s\n",
      "n: 1094, k: 547, w: 105, prob: 0.36, time: 119s\n",
      "n: 1306, k: 653, w: 116, prob: 0.22, time: 206s\n",
      "n: 1502, k: 751, w: 125, prob: 0.34, time: 323s\n",
      "n: 1706, k: 853, w: 135, prob: 0.32, time: 469s\n",
      "n: 2098, k: 1049, w: 152, prob: 0.26, time: 906s\n",
      "n: 2306, k: 1153, w: 160, prob: 0.3, time: 1163s\n"
     ]
    }
   ],
   "source": [
    "P = [151, 251, 353, 449, 547, 653, 751, 853, 1049, 1153]\n",
    "N = [p * 2 for p in P]\n",
    "W = [int((n*log(n, 2))**(0.5)) for n in N]\n",
    "\n",
    "probs_qc_mdpc = []\n",
    "time_qc_mdpc = []\n",
    "\n",
    "print(\"QC-MDPC simulation\")\n",
    "for n, p, w in zip(N, P, W):\n",
    "    ldpc = QC_LDPC.from_params(n, p, w)\n",
    "\n",
    "    crypto = McEliece.from_linear_code(ldpc, 0)\n",
    "\n",
    "    SGP = crypto.public_key[0]\n",
    "    k, n = SGP.shape\n",
    "    \n",
    "    counter = 0\n",
    "    start = time.time()\n",
    "    \n",
    "    for iter in range(ITER_NUM):\n",
    "        I = extract_random_information_set(SGP)\n",
    "        rank = binaryrank(I)\n",
    "                \n",
    "        if rank == k:\n",
    "            counter += 1\n",
    "            \n",
    "    end = time.time()\n",
    "    \n",
    "    t = int(end - start)\n",
    "    time_qc_mdpc.append(t)\n",
    "            \n",
    "    prob = counter / ITER_NUM\n",
    "    probs_qc_mdpc.append(prob)\n",
    "    \n",
    "    print(\"n: {}, k: {}, w: {}, prob: {}, time: {}s\".format(n, k, w, prob, t))"
   ]
  },
  {
   "cell_type": "code",
   "execution_count": 53,
   "metadata": {},
   "outputs": [
    {
     "name": "stdout",
     "output_type": "stream",
     "text": [
      "[0.2, 0.2, 0.22, 0.4, 0.36, 0.22, 0.34, 0.32, 0.26, 0.3]\n"
     ]
    }
   ],
   "source": [
    "print(probs_qc_mdpc)"
   ]
  },
  {
   "cell_type": "code",
   "execution_count": 65,
   "metadata": {},
   "outputs": [
    {
     "data": {
      "image/png": "[encoded data removed]",
      "text/plain": [
       "<Figure size 432x288 with 1 Axes>"
      ]
     },
     "metadata": {},
     "output_type": "display_data"
    }
   ],
   "source": [
    "P = [151, 251, 353, 449, 547, 653, 751, 853, 1049, 1153]\n",
    "QC_Ns = N = [p * 2 for p in P]\n",
    "Ns = [300, 500, 700, 900, 1100, 1300, 1500, 1700, 1900, 2100, 2300]\n",
    "\n",
    "plt.xlabel('Code length (n)')\n",
    "plt.ylabel('Information set probability (p)')\n",
    "\n",
    "plt.plot(Ns, probs_ldpc, label=\"Regular LDPC\", c='#ff0000ff')\n",
    "plt.plot(Ns, probs_irregular_ldpc, label=\"Irregular LDPC\", c='#ff0000bb')\n",
    "plt.plot(QC_Ns, probs_qc_ldpc, label=\"QC-LDPC\", c='#ff000088')\n",
    "\n",
    "plt.plot(Ns, probs_mdpc, label=\"Regular MDPC\", c='#0000ffff')\n",
    "plt.plot(Ns, probs_irregular_mdpc, label=\"Irregular MDPC\", c='#0000ffbb')\n",
    "plt.plot(QC_Ns, probs_qc_mdpc, label=\"QC-MDPC\", c='#0000ff88')\n",
    "\n",
    "plt.legend(loc=4)\n",
    "\n",
    "plt.savefig(\"information_set_probability.png\", dpi=100)"
   ]
  },
  {
   "cell_type": "code",
   "execution_count": 85,
   "metadata": {},
   "outputs": [
    {
     "name": "stdout",
     "output_type": "stream",
     "text": [
      "'Fixed n, different w' simulation:\n",
      "0: 0.0%, 11s\n",
      "1: 0.0%, 11s\n",
      "2: 0.0%, 11s\n",
      "3: 0.0%, 11s\n",
      "4: 0.0%, 11s\n",
      "5: 0.0%, 11s\n",
      "w: 6, prob: 0.0, time: 66s\n",
      "0: 0.0%, 11s\n",
      "1: 0.0%, 11s\n",
      "2: 0.0%, 11s\n",
      "3: 0.0%, 11s\n",
      "4: 0.0%, 11s\n",
      "5: 0.0%, 11s\n",
      "w: 7, prob: 0.0, time: 66s\n",
      "0: 4.0%, 11s\n",
      "1: 4.0%, 11s\n",
      "2: 6.0%, 11s\n",
      "3: 4.0%, 11s\n",
      "4: 2.0%, 11s\n",
      "5: 2.0%, 11s\n",
      "w: 8, prob: 0.03666666666666667, time: 66s\n",
      "0: 10.0%, 11s\n",
      "1: 12.0%, 11s\n",
      "2: 16.0%, 11s\n",
      "3: 20.0%, 11s\n",
      "4: 16.0%, 11s\n",
      "5: 6.0%, 11s\n",
      "w: 9, prob: 0.13333333333333333, time: 66s\n",
      "0: 22.0%, 11s\n",
      "1: 18.0%, 11s\n",
      "2: 18.0%, 11s\n",
      "3: 20.0%, 11s\n",
      "4: 18.0%, 11s\n",
      "5: 14.000000000000002%, 11s\n",
      "w: 10, prob: 0.18333333333333335, time: 66s\n",
      "0: 14.000000000000002%, 11s\n",
      "1: 22.0%, 11s\n",
      "2: 10.0%, 11s\n",
      "3: 20.0%, 11s\n",
      "4: 22.0%, 11s\n",
      "5: 28.000000000000004%, 11s\n",
      "w: 11, prob: 0.19333333333333333, time: 66s\n",
      "0: 30.0%, 11s\n",
      "1: 30.0%, 11s\n",
      "2: 34.0%, 11s\n",
      "3: 36.0%, 11s\n",
      "4: 24.0%, 11s\n",
      "5: 12.0%, 17s\n",
      "w: 12, prob: 0.2766666666666666, time: 72s\n",
      "0: 14.000000000000002%, 13s\n",
      "1: 34.0%, 11s\n",
      "2: 22.0%, 11s\n",
      "3: 34.0%, 11s\n",
      "4: 20.0%, 11s\n",
      "5: 24.0%, 11s\n",
      "w: 13, prob: 0.24666666666666667, time: 68s\n",
      "0: 30.0%, 11s\n",
      "1: 30.0%, 11s\n",
      "2: 20.0%, 11s\n",
      "3: 28.000000000000004%, 11s\n",
      "4: 24.0%, 11s\n",
      "5: 32.0%, 11s\n",
      "w: 14, prob: 0.2733333333333334, time: 66s\n",
      "0: 30.0%, 11s\n",
      "1: 30.0%, 11s\n",
      "2: 28.000000000000004%, 11s\n",
      "3: 34.0%, 11s\n",
      "4: 28.000000000000004%, 11s\n",
      "5: 30.0%, 11s\n",
      "w: 15, prob: 0.3, time: 66s\n",
      "0: 24.0%, 11s\n",
      "1: 18.0%, 11s\n",
      "2: 26.0%, 11s\n",
      "3: 30.0%, 11s\n",
      "4: 26.0%, 11s\n",
      "5: 32.0%, 11s\n",
      "w: 16, prob: 0.26, time: 66s\n",
      "0: 32.0%, 11s\n",
      "1: 20.0%, 11s\n",
      "2: 32.0%, 11s\n",
      "3: 34.0%, 12s\n",
      "4: 44.0%, 11s\n",
      "5: 26.0%, 11s\n",
      "w: 17, prob: 0.31333333333333335, time: 67s\n",
      "0: 36.0%, 11s\n",
      "1: 26.0%, 11s\n",
      "2: 28.000000000000004%, 11s\n",
      "3: 36.0%, 11s\n",
      "4: 36.0%, 11s\n",
      "5: 22.0%, 11s\n",
      "w: 18, prob: 0.3066666666666667, time: 66s\n",
      "0: 30.0%, 11s\n",
      "1: 28.000000000000004%, 11s\n",
      "2: 28.000000000000004%, 11s\n",
      "3: 26.0%, 11s\n",
      "4: 26.0%, 11s\n",
      "5: 18.0%, 11s\n",
      "w: 19, prob: 0.26, time: 66s\n",
      "0: 38.0%, 11s\n",
      "1: 22.0%, 11s\n",
      "2: 26.0%, 11s\n",
      "3: 22.0%, 11s\n",
      "4: 22.0%, 11s\n",
      "5: 24.0%, 11s\n",
      "w: 20, prob: 0.25666666666666665, time: 66s\n",
      "0: 36.0%, 11s\n",
      "1: 24.0%, 11s\n",
      "2: 24.0%, 11s\n",
      "3: 22.0%, 11s\n",
      "4: 28.000000000000004%, 11s\n",
      "5: 26.0%, 11s\n",
      "w: 21, prob: 0.26666666666666666, time: 66s\n",
      "0: 30.0%, 11s\n",
      "1: 26.0%, 11s\n",
      "2: 20.0%, 11s\n",
      "3: 28.000000000000004%, 11s\n",
      "4: 32.0%, 11s\n",
      "5: 28.000000000000004%, 11s\n",
      "w: 22, prob: 0.2733333333333334, time: 66s\n",
      "0: 28.000000000000004%, 11s\n",
      "1: 28.000000000000004%, 11s\n",
      "2: 22.0%, 11s\n",
      "3: 38.0%, 11s\n",
      "4: 32.0%, 11s\n",
      "5: 26.0%, 11s\n",
      "w: 23, prob: 0.29000000000000004, time: 66s\n",
      "0: 36.0%, 11s\n",
      "1: 26.0%, 11s\n",
      "2: 34.0%, 11s\n",
      "3: 32.0%, 11s\n",
      "4: 34.0%, 11s\n",
      "5: 42.0%, 11s\n",
      "w: 24, prob: 0.34, time: 66s\n",
      "0: 16.0%, 11s\n",
      "1: 36.0%, 11s\n",
      "2: 30.0%, 11s\n",
      "3: 34.0%, 11s\n",
      "4: 12.0%, 11s\n",
      "5: 30.0%, 11s\n",
      "w: 25, prob: 0.26333333333333336, time: 66s\n",
      "0: 40.0%, 11s\n",
      "1: 36.0%, 11s\n",
      "2: 30.0%, 11s\n",
      "3: 24.0%, 11s\n",
      "4: 36.0%, 11s\n",
      "5: 32.0%, 11s\n",
      "w: 26, prob: 0.33, time: 66s\n",
      "0: 28.000000000000004%, 11s\n",
      "1: 30.0%, 11s\n",
      "2: 26.0%, 11s\n",
      "3: 28.000000000000004%, 11s\n",
      "4: 32.0%, 11s\n",
      "5: 28.000000000000004%, 11s\n",
      "w: 27, prob: 0.2866666666666667, time: 66s\n",
      "0: 22.0%, 11s\n",
      "1: 30.0%, 11s\n",
      "2: 30.0%, 11s\n",
      "3: 36.0%, 11s\n",
      "4: 32.0%, 11s\n",
      "5: 42.0%, 11s\n",
      "w: 28, prob: 0.32, time: 66s\n",
      "0: 44.0%, 11s\n",
      "1: 24.0%, 11s\n",
      "2: 28.000000000000004%, 11s\n",
      "3: 30.0%, 11s\n",
      "4: 26.0%, 11s\n",
      "5: 38.0%, 11s\n",
      "w: 29, prob: 0.31666666666666665, time: 66s\n"
     ]
    }
   ],
   "source": [
    "REPEAT = 6\n",
    "\n",
    "p = 251\n",
    "n = 502\n",
    "W = [i for i in range(6, 30)]\n",
    "\n",
    "probs2 = []\n",
    "times2 = []\n",
    "\n",
    "print(\"'Fixed n, different w' simulation:\")\n",
    "for w in W:\n",
    "    t_r = []\n",
    "    p_r = []\n",
    "    \n",
    "    for r in range(REPEAT):\n",
    "        ldpc = QC_LDPC.from_params(n, p, w)\n",
    "\n",
    "        crypto = McEliece.from_linear_code(ldpc, 0)\n",
    "\n",
    "        SGP = crypto.public_key[0]\n",
    "        k, _ = SGP.shape\n",
    "\n",
    "        counter = 0\n",
    "        start = time.time()\n",
    "\n",
    "        for iter in range(ITER_NUM):\n",
    "            I = extract_random_information_set(SGP)\n",
    "            rank = binaryrank(I)\n",
    "\n",
    "            if rank == k:\n",
    "                counter += 1\n",
    "\n",
    "        end = time.time()\n",
    "\n",
    "        t = int(end - start)\n",
    "        t_r.append(t)\n",
    "        \n",
    "        prob = counter / ITER_NUM\n",
    "        p_r.append(prob)\n",
    "        \n",
    "        print(\"{}: {}%, {}s\".format(r, prob*100, t))\n",
    "        \n",
    "    t_s = sum(t_r)\n",
    "    p_s = sum(p_r) / len(p_r)\n",
    "    \n",
    "    times2.append(t_s)\n",
    "    probs2.append(p_s)\n",
    "    \n",
    "    print(\"w: {}, prob: {}, time: {}s\".format(w, p_s, t_s))"
   ]
  },
  {
   "cell_type": "code",
   "execution_count": 86,
   "metadata": {},
   "outputs": [
    {
     "name": "stdout",
     "output_type": "stream",
     "text": [
      "[0.0, 0.0, 0.03666666666666667, 0.13333333333333333, 0.18333333333333335, 0.19333333333333333, 0.2766666666666666, 0.24666666666666667, 0.2733333333333334, 0.3, 0.26, 0.31333333333333335, 0.3066666666666667, 0.26, 0.25666666666666665, 0.26666666666666666, 0.2733333333333334, 0.29000000000000004, 0.34, 0.26333333333333336, 0.33, 0.2866666666666667, 0.32, 0.31666666666666665]\n"
     ]
    }
   ],
   "source": [
    "print(probs2)"
   ]
  },
  {
   "cell_type": "code",
   "execution_count": 111,
   "metadata": {},
   "outputs": [],
   "source": [
    "from math import tanh\n",
    "\n",
    "def my_tanh(x):\n",
    "    return tanh(x - 10) / 7 + 1/7"
   ]
  },
  {
   "cell_type": "code",
   "execution_count": 121,
   "metadata": {},
   "outputs": [
    {
     "data": {
      "image/png": "[encoded data removed]",
      "text/plain": [
       "<Figure size 432x288 with 1 Axes>"
      ]
     },
     "metadata": {},
     "output_type": "display_data"
    }
   ],
   "source": [
    "w = [i for i in range(0, 30)]\n",
    "probs = [0, 0, 0, 0, 0, 0, 0.0, 0.0, 0.03666666666666667, 0.13333333333333333, 0.18333333333333335, 0.19333333333333333, 0.2766666666666666, 0.24666666666666667, 0.2733333333333334, 0.3, 0.26, 0.31333333333333335, 0.3066666666666667, 0.26, 0.25666666666666665, 0.26666666666666666, 0.2733333333333334, 0.29000000000000004, 0.34, 0.26333333333333336, 0.33, 0.2866666666666667, 0.32, 0.31666666666666665]\n",
    "\n",
    "plt.xlabel('Code weight (w)')\n",
    "plt.ylabel('Information set probability (p)')\n",
    "\n",
    "plt.plot(w, probs, label='QC-LDPC, rate=1/2')\n",
    "\n",
    "x = np.linspace(0, 30, num=100)\n",
    "y = np.array(list(map(my_tanh, x)))\n",
    "\n",
    "plt.plot(x, y, linestyle='--', label=\"tanh approximation\")\n",
    "\n",
    "plt.legend(loc=4)\n",
    "\n",
    "plt.savefig(\"tanh_approximation.png\", dpi=100)"
   ]
  }
 ],
 "metadata": {
  "kernelspec": {
   "display_name": "Python 3",
   "language": "python",
   "name": "python3"
  },
  "language_info": {
   "codemirror_mode": {
    "name": "ipython",
    "version": 3
   },
   "file_extension": ".py",
   "mimetype": "text/x-python",
   "name": "python",
   "nbconvert_exporter": "python",
   "pygments_lexer": "ipython3",
   "version": "3.6.9"
  }
 },
 "nbformat": 4,
 "nbformat_minor": 2
}
