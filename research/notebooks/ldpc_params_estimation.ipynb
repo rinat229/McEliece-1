{
 "cells": [
  {
   "cell_type": "markdown",
   "metadata": {},
   "source": [
    "# LDPC parameters estimation\n",
    "\n",
    "Following notebook shows dependence between regular LDPC\n",
    "code parameters and its error correction availability"
   ]
  },
  {
   "cell_type": "code",
   "execution_count": 149,
   "metadata": {},
   "outputs": [],
   "source": [
    "import sys\n",
    "sys.path.insert(0, '../../src')\n",
    "\n",
    "import warnings\n",
    "warnings.filterwarnings(\"ignore\", category=UserWarning)"
   ]
  },
  {
   "cell_type": "code",
   "execution_count": 157,
   "metadata": {},
   "outputs": [],
   "source": [
    "import matplotlib.pyplot as plt\n",
    "import numpy as np\n",
    "import time\n",
    "\n",
    "\n",
    "from LDPC import LDPC"
   ]
  },
  {
   "cell_type": "markdown",
   "metadata": {},
   "source": [
    "## Row weight \n",
    "\n",
    "Smaller row weight allows to correct more errors"
   ]
  },
  {
   "cell_type": "code",
   "execution_count": 155,
   "metadata": {},
   "outputs": [],
   "source": [
    "n = 512\n",
    "d_v = 6\n",
    "D_c = [256, 128, 64, 32, 16, 8]\n",
    "\n",
    "T = []\n",
    "E = []\n",
    "\n",
    "for d_c in D_c:   \n",
    "    ldpc = LDPC.from_params(n, d_v, d_c)\n",
    "    \n",
    "    start = time.time()\n",
    "    e = ldpc.guess_code_max_error()\n",
    "    end = time.time()\n",
    "    \n",
    "    t = end - start\n",
    "    \n",
    "    T.append(t)\n",
    "    E.append(e)"
   ]
  },
  {
   "cell_type": "code",
   "execution_count": 156,
   "metadata": {},
   "outputs": [
    {
     "name": "stdout",
     "output_type": "stream",
     "text": [
      "[2.1741719245910645, 4.480963706970215, 8.66971230506897, 10.58681607246399, 76.78483843803406, 461.59837222099304]\n",
      "[1, 1, 1, 2, 10, 29]\n"
     ]
    }
   ],
   "source": [
    "print(T)\n",
    "print(E)"
   ]
  },
  {
   "cell_type": "code",
   "execution_count": 207,
   "metadata": {},
   "outputs": [
    {
     "data": {
      "text/plain": [
       "[<matplotlib.lines.Line2D at 0x7fcf823a9198>]"
      ]
     },
     "execution_count": 207,
     "metadata": {},
     "output_type": "execute_result"
    },
    {
     "data": {
      "image/png": "[encoded data removed]",
      "text/plain": [
       "<Figure size 432x288 with 1 Axes>"
      ]
     },
     "metadata": {},
     "output_type": "display_data"
    }
   ],
   "source": [
    "E = [1, 1, 1, 2, 10, 29]\n",
    "D_c = [256, 128, 64, 32, 16, 8]\n",
    "\n",
    "plt.xlabel('LDPC/MDPC code weight (w)')\n",
    "plt.ylabel('Error correction availability')\n",
    "plt.plot(D_c, E)"
   ]
  },
  {
   "cell_type": "markdown",
   "metadata": {},
   "source": [
    "## Column weight\n",
    "\n",
    "Bigger column weight allows to correct more errors,\n",
    "but decreases code speed"
   ]
  },
  {
   "cell_type": "code",
   "execution_count": 160,
   "metadata": {},
   "outputs": [],
   "source": [
    "n = 256\n",
    "D_v = [2, 3, 4, 5, 6, 7]\n",
    "d_c = 8\n",
    "\n",
    "T = []\n",
    "E = []\n",
    "\n",
    "for d_v in D_v:   \n",
    "    ldpc = LDPC.from_params(n, d_v, d_c)\n",
    "    \n",
    "    start = time.time()\n",
    "    e = ldpc.guess_code_max_error()\n",
    "    end = time.time()\n",
    "    \n",
    "    t = end - start\n",
    "    \n",
    "    T.append(t)\n",
    "    E.append(e)"
   ]
  },
  {
   "cell_type": "code",
   "execution_count": 161,
   "metadata": {},
   "outputs": [
    {
     "name": "stdout",
     "output_type": "stream",
     "text": [
      "[2.3822388648986816, 3.525219202041626, 14.723495960235596, 31.57197642326355, 45.371867179870605, 69.29059481620789]\n",
      "[1, 1, 5, 9, 11, 14]\n"
     ]
    }
   ],
   "source": [
    "print(T)\n",
    "print(E)"
   ]
  },
  {
   "cell_type": "code",
   "execution_count": 209,
   "metadata": {},
   "outputs": [
    {
     "data": {
      "text/plain": [
       "[<matplotlib.lines.Line2D at 0x7fcf82e36668>]"
      ]
     },
     "execution_count": 209,
     "metadata": {},
     "output_type": "execute_result"
    },
    {
     "data": {
      "image/png": "[encoded data removed]",
      "text/plain": [
       "<Figure size 432x288 with 1 Axes>"
      ]
     },
     "metadata": {},
     "output_type": "display_data"
    }
   ],
   "source": [
    "E = [1, 1, 5, 9, 11, 14]\n",
    "D_v = [2, 3, 4, 5, 6, 7]\n",
    "\n",
    "plt.xlabel('LDPC code column weight')\n",
    "plt.ylabel('Error correction availability')\n",
    "plt.plot(D_v, E)"
   ]
  },
  {
   "cell_type": "markdown",
   "metadata": {},
   "source": [
    "## Matrix size\n",
    "\n",
    "Bigger matrix allows to fix more errors (almost linearly)"
   ]
  },
  {
   "cell_type": "code",
   "execution_count": 169,
   "metadata": {},
   "outputs": [],
   "source": [
    "N = [64, 125, 216, 343, 512]\n",
    "D_v = [3, 4, 5, 6, 7]\n",
    "D_c = [4, 5, 6, 7, 8]\n",
    "\n",
    "T = []\n",
    "E = []\n",
    "\n",
    "for n, d_v, d_c in zip(N, D_v, D_c):   \n",
    "    ldpc = LDPC.from_params(n, d_v, d_c)\n",
    "    \n",
    "    start = time.time()\n",
    "    e = ldpc.guess_code_max_error()\n",
    "    end = time.time()\n",
    "    \n",
    "    t = end - start\n",
    "    \n",
    "    T.append(t)\n",
    "    E.append(e)"
   ]
  },
  {
   "cell_type": "code",
   "execution_count": 170,
   "metadata": {},
   "outputs": [
    {
     "name": "stdout",
     "output_type": "stream",
     "text": [
      "[0.6046299934387207, 2.965343952178955, 50.85605788230896, 214.42108273506165, 589.0650064945221]\n",
      "[1, 2, 14, 23, 32]\n"
     ]
    }
   ],
   "source": [
    "print(T)\n",
    "print(E)"
   ]
  },
  {
   "cell_type": "code",
   "execution_count": 205,
   "metadata": {},
   "outputs": [
    {
     "data": {
      "text/plain": [
       "[<matplotlib.lines.Line2D at 0x7fcf8882cf60>]"
      ]
     },
     "execution_count": 205,
     "metadata": {},
     "output_type": "execute_result"
    },
    {
     "data": {
      "image/png": "[encoded data removed]",
      "text/plain": [
       "<Figure size 432x288 with 1 Axes>"
      ]
     },
     "metadata": {},
     "output_type": "display_data"
    }
   ],
   "source": [
    "N = [64, 125, 216, 343, 512]\n",
    "E = [1, 2, 14, 23, 32]\n",
    "\n",
    "plt.xlabel('Length of LDPC code (n)')\n",
    "plt.ylabel('Error correction availability')\n",
    "plt.plot(N, E)"
   ]
  },
  {
   "cell_type": "markdown",
   "metadata": {},
   "source": [
    "## Errors distribution\n",
    "\n",
    "Error amount that random LDPC code with the fixed parameters\n",
    "can correct looks like log-normal distributed"
   ]
  },
  {
   "cell_type": "code",
   "execution_count": 172,
   "metadata": {},
   "outputs": [],
   "source": [
    "n = 300\n",
    "d_v = 4\n",
    "d_c = 6\n",
    "\n",
    "T = []\n",
    "E = []\n",
    "\n",
    "for i in range(100):   \n",
    "    ldpc = LDPC.from_params(n, d_v, d_c)\n",
    "    \n",
    "    start = time.time()\n",
    "    e = ldpc.guess_code_max_error()\n",
    "    end = time.time()\n",
    "    \n",
    "    t = end - start\n",
    "    \n",
    "    T.append(t)\n",
    "    E.append(e)"
   ]
  },
  {
   "cell_type": "code",
   "execution_count": 174,
   "metadata": {
    "collapsed": true
   },
   "outputs": [
    {
     "name": "stdout",
     "output_type": "stream",
     "text": [
      "[44.41245484352112, 50.744369983673096, 40.74383187294006, 50.000195264816284, 45.087353467941284, 36.72335982322693, 52.270604848861694, 40.85511589050293, 62.806867361068726, 58.685871601104736, 38.439767599105835, 60.64969515800476, 56.48522901535034, 50.43209886550903, 44.60025382041931, 58.9188916683197, 49.26348280906677, 56.22458529472351, 62.05170035362244, 59.639084339141846, 69.14981436729431, 56.31423735618591, 58.2521276473999, 35.98160910606384, 61.01483130455017, 45.56423568725586, 30.36520028114319, 39.68995237350464, 39.19375252723694, 45.46046304702759, 40.65165615081787, 49.3187735080719, 51.8379430770874, 45.10949683189392, 31.332433462142944, 55.64000201225281, 56.055347204208374, 55.71418333053589, 48.6735954284668, 26.86133360862732, 44.66936779022217, 55.84046006202698, 35.63776636123657, 35.87015175819397, 61.13810658454895, 57.47936534881592, 50.88928413391113, 44.03213667869568, 61.98542761802673, 47.33719348907471, 61.60632634162903, 61.87697911262512, 43.462936878204346, 50.741188287734985, 66.54372978210449, 62.12444233894348, 35.826282024383545, 72.1148772239685, 58.409154415130615, 45.46476173400879, 59.692601442337036, 53.209282875061035, 25.96804451942444, 55.01566028594971, 62.332921266555786, 57.06723737716675, 46.604454040527344, 35.26509189605713, 30.063658714294434, 64.3435537815094, 67.54224944114685, 55.15745210647583, 54.239495038986206, 59.761895179748535, 26.85732650756836, 34.138357162475586, 59.51126265525818, 59.59045910835266, 49.59587860107422, 65.86500430107117, 49.97838854789734, 49.209367990493774, 60.27913808822632, 45.6462082862854, 55.245262145996094, 49.59776592254639, 46.656845569610596, 29.925185203552246, 67.92191410064697, 56.660223960876465, 58.84708857536316, 46.546722173690796, 55.69506573677063, 47.010857820510864, 50.10531687736511, 49.61398124694824, 59.22987389564514, 49.82648730278015, 56.52496814727783, 47.92845964431763]\n",
      "[10, 11, 9, 11, 10, 8, 11, 9, 13, 13, 9, 13, 12, 11, 10, 13, 10, 12, 13, 12, 14, 12, 12, 8, 13, 10, 7, 9, 9, 10, 9, 11, 10, 10, 7, 12, 12, 12, 11, 6, 10, 12, 8, 8, 13, 12, 11, 10, 13, 10, 13, 13, 10, 11, 14, 13, 8, 14, 12, 10, 13, 12, 6, 12, 13, 12, 11, 8, 7, 14, 14, 12, 12, 13, 6, 8, 12, 13, 11, 14, 11, 11, 13, 10, 12, 11, 10, 7, 14, 12, 13, 11, 12, 11, 11, 11, 13, 11, 12, 10]\n"
     ]
    }
   ],
   "source": [
    "print(T)\n",
    "print(E)"
   ]
  },
  {
   "cell_type": "code",
   "execution_count": 212,
   "metadata": {},
   "outputs": [
    {
     "name": "stdout",
     "output_type": "stream",
     "text": [
      "Mean is 10.98\n",
      "E is 10.98\n",
      "STD is 1.9948934808655823\n"
     ]
    },
    {
     "data": {
      "text/plain": [
       "<matplotlib.collections.PathCollection at 0x7fcf88533470>"
      ]
     },
     "execution_count": 212,
     "metadata": {},
     "output_type": "execute_result"
    },
    {
     "data": {
      "image/png": "[encoded data removed]",
      "text/plain": [
       "<Figure size 432x288 with 1 Axes>"
      ]
     },
     "metadata": {},
     "output_type": "display_data"
    }
   ],
   "source": [
    "E = [10, 11, 9, 11, 10, 8, 11, 9, 13, 13, 9, 13, 12, 11, 10, 13, 10, 12, 13, 12, 14, 12, 12, 8, 13, 10, 7, 9, 9, 10, 9, 11, 10, 10, 7, 12, 12, 12, 11, 6, 10, 12, 8, 8, 13, 12, 11, 10, 13, 10, 13, 13, 10, 11, 14, 13, 8, 14, 12, 10, 13, 12, 6, 12, 13, 12, 11, 8, 7, 14, 14, 12, 12, 13, 6, 8, 12, 13, 11, 14, 11, 11, 13, 10, 12, 11, 10, 7, 14, 12, 13, 11, 12, 11, 11, 11, 13, 11, 12, 10]\n",
    "\n",
    "from collections import Counter\n",
    "\n",
    "c = Counter(E)\n",
    "\n",
    "items = list(c.items())\n",
    "data = np.array(items, dtype=int).T\n",
    "\n",
    "print(\"Mean is\", np.mean(E))\n",
    "print(\"E is\", np.average(E))\n",
    "print(\"STD is\", np.std(E))\n",
    "\n",
    "plt.xlabel('Error correction availability')\n",
    "plt.ylabel('Number of codes')\n",
    "plt.scatter(*data)"
   ]
  }
 ],
 "metadata": {
  "kernelspec": {
   "display_name": "Python 3",
   "language": "python",
   "name": "python3"
  },
  "language_info": {
   "codemirror_mode": {
    "name": "ipython",
    "version": 3
   },
   "file_extension": ".py",
   "mimetype": "text/x-python",
   "name": "python",
   "nbconvert_exporter": "python",
   "pygments_lexer": "ipython3",
   "version": "3.6.9"
  }
 },
 "nbformat": 4,
 "nbformat_minor": 2
}
