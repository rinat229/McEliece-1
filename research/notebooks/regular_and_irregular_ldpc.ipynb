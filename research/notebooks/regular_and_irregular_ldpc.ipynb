{
 "cells": [
  {
   "cell_type": "markdown",
   "metadata": {},
   "source": [
    "# Regular/irregular LDPC\n",
    "\n",
    "Comparison between two types of LDPC code generation (Gallagher's and MacKey's approach)"
   ]
  },
  {
   "cell_type": "code",
   "execution_count": 1,
   "metadata": {},
   "outputs": [],
   "source": [
    "import sys\n",
    "sys.path.insert(0, '../../src')\n",
    "\n",
    "import warnings\n",
    "warnings.filterwarnings(\"ignore\", category=UserWarning)"
   ]
  },
  {
   "cell_type": "code",
   "execution_count": 2,
   "metadata": {},
   "outputs": [],
   "source": [
    "import matplotlib.pyplot as plt\n",
    "import numpy as np\n",
    "import time\n",
    "\n",
    "\n",
    "from LDPC import LDPC"
   ]
  },
  {
   "cell_type": "code",
   "execution_count": null,
   "metadata": {},
   "outputs": [],
   "source": [
    "n = 266\n",
    "d_v = 10\n",
    "d_c = 14"
   ]
  },
  {
   "cell_type": "code",
   "execution_count": null,
   "metadata": {},
   "outputs": [],
   "source": [
    "T2 = []\n",
    "E2 = []\n",
    "\n",
    "# irregular LDPC\n",
    "for i in range(50):   \n",
    "    ldpc = LDPC.from_params(n, d_v, d_c, regular=False)\n",
    "    \n",
    "    start = time.time()\n",
    "    e = ldpc.guess_code_max_error(confidence=0.97)\n",
    "    end = time.time()\n",
    "    \n",
    "    t = end - start\n",
    "    \n",
    "    T2.append(t)\n",
    "    E2.append(e)\n",
    "    \n",
    "    print(\"{}: {}\".format(i, e))"
   ]
  },
  {
   "cell_type": "code",
   "execution_count": 12,
   "metadata": {},
   "outputs": [
    {
     "name": "stdout",
     "output_type": "stream",
     "text": [
      "[8, 7, 8, 8, 8, 8, 6, 8, 8, 8, 8, 8, 7, 7, 7, 8, 8, 6, 8, 8, 8, 7, 8, 7, 7, 8, 7, 7, 7, 7, 8, 8, 8, 8, 8, 7, 8, 8, 7, 7, 7, 7, 6, 8, 7, 8, 7, 5, 7, 8]\n"
     ]
    }
   ],
   "source": [
    "print(E2)"
   ]
  },
  {
   "cell_type": "code",
   "execution_count": null,
   "metadata": {},
   "outputs": [],
   "source": [
    "T1 = []\n",
    "E1 = []\n",
    "\n",
    "# regular LDPC\n",
    "for i in range(50):   \n",
    "    ldpc = LDPC.from_params(n, d_v, d_c)\n",
    "    \n",
    "    start = time.time()\n",
    "    e = ldpc.guess_code_max_error(confidence=0.97)\n",
    "    end = time.time()\n",
    "    \n",
    "    t = end - start\n",
    "    \n",
    "    T1.append(t)\n",
    "    E1.append(e)\n",
    "    \n",
    "    print(\"{}: {}\".format(i, e))"
   ]
  },
  {
   "cell_type": "code",
   "execution_count": 14,
   "metadata": {},
   "outputs": [
    {
     "name": "stdout",
     "output_type": "stream",
     "text": [
      "[10, 10, 10, 9, 10, 10, 10, 11, 10, 10, 10, 10, 10, 10, 10, 10, 10, 10, 11, 10, 11, 10, 10, 10, 10, 11, 9, 10, 11, 10, 10, 10, 10, 10, 10, 10, 9, 9, 10, 9, 10, 10, 10, 10, 10, 10, 10, 10, 10, 10]\n"
     ]
    }
   ],
   "source": [
    "print(E1)"
   ]
  },
  {
   "cell_type": "code",
   "execution_count": 27,
   "metadata": {},
   "outputs": [
    {
     "name": "stdout",
     "output_type": "stream",
     "text": [
      "--- Regular LDPC ---\n",
      "Mean is 10.0\n",
      "E is 10.0\n",
      "STD is 0.4472135954999579\n",
      "\n",
      "--- Irregular LDPC ---\n",
      "Mean is 7.44\n",
      "E is 7.44\n",
      "STD is 0.6974238309665077\n"
     ]
    },
    {
     "data": {
      "text/plain": [
       "<matplotlib.legend.Legend at 0x7f5c9356fa58>"
      ]
     },
     "execution_count": 27,
     "metadata": {},
     "output_type": "execute_result"
    },
    {
     "data": {
      "image/png": "[encoded data removed]",
      "text/plain": [
       "<Figure size 432x288 with 1 Axes>"
      ]
     },
     "metadata": {},
     "output_type": "display_data"
    }
   ],
   "source": [
    "E1 = [10, 10, 10, 9, 10, 10, 10, 11, 10, 10, 10, 10, 10, 10, 10, 10, 10, 10, 11, 10, 11, 10, 10, 10, 10, 11, 9, 10, 11, 10, 10, 10, 10, 10, 10, 10, 9, 9, 10, 9, 10, 10, 10, 10, 10, 10, 10, 10, 10, 10]\n",
    "E2 = [8, 7, 8, 8, 8, 8, 6, 8, 8, 8, 8, 8, 7, 7, 7, 8, 8, 6, 8, 8, 8, 7, 8, 7, 7, 8, 7, 7, 7, 7, 8, 8, 8, 8, 8, 7, 8, 8, 7, 7, 7, 7, 6, 8, 7, 8, 7, 5, 7, 8]\n",
    "\n",
    "from collections import Counter\n",
    "\n",
    "c1 = Counter(E1)\n",
    "c2 = Counter(E2)\n",
    "\n",
    "items1 = list(c1.items())\n",
    "data1 = np.array(items1, dtype=int).T\n",
    "\n",
    "items2 = list(c2.items())\n",
    "data2 = np.array(items2, dtype=int).T\n",
    "\n",
    "print(\"--- Regular LDPC ---\")\n",
    "print(\"Mean is\", np.mean(E1))\n",
    "print(\"E is\", np.average(E1))\n",
    "print(\"STD is\", np.std(E1))\n",
    "\n",
    "print()\n",
    "\n",
    "print(\"--- Irregular LDPC ---\")\n",
    "print(\"Mean is\", np.mean(E2))\n",
    "print(\"E is\", np.average(E2))\n",
    "print(\"STD is\", np.std(E2))\n",
    "\n",
    "plt.xlabel('Error correction availability')\n",
    "plt.ylabel('Number of codes')\n",
    "\n",
    "plt.scatter(*data1, c='b', label='Gallagher')\n",
    "plt.scatter(*data2, c='r', label='MacKay')\n",
    "\n",
    "plt.legend(loc=2)"
   ]
  }
 ],
 "metadata": {
  "kernelspec": {
   "display_name": "Python 3",
   "language": "python",
   "name": "python3"
  },
  "language_info": {
   "codemirror_mode": {
    "name": "ipython",
    "version": 3
   },
   "file_extension": ".py",
   "mimetype": "text/x-python",
   "name": "python",
   "nbconvert_exporter": "python",
   "pygments_lexer": "ipython3",
   "version": "3.6.9"
  }
 },
 "nbformat": 4,
 "nbformat_minor": 2
}
